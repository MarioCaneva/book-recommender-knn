{
  "cells": [
    {
      "cell_type": "markdown",
      "source": [
        "# Book Recommendation Engine using KNN"
      ],
      "metadata": {
        "id": "lKLFcNpv6KGU"
      }
    },
    {
      "cell_type": "markdown",
      "source": [
        "In this challenge, you will create a book recommendation algorithm using K-Nearest Neighbors.\n",
        "\n",
        "In this project, you will use the Book-Crossings dataset, which contains 1.1 million ratings (scale of 1-10) of 270,000 books by 90,000 users. The dataset is already imported in the notebook, so no additional download is required.\n",
        "\n",
        "Use NearestNeighbors from sklearn.neighbors to develop a model that shows books that are similar to a given book. The Nearest Neighbors algorithm measures the distance to determine the “closeness” of instances.\n",
        "\n",
        "Create a function named get_recommends that takes a book title (from the dataset) as an argument and returns a list of 5 similar books with their distances from the book argument."
      ],
      "metadata": {
        "id": "FWU9NZA26QOp"
      }
    },
    {
      "cell_type": "markdown",
      "source": [
        "#Libraries"
      ],
      "metadata": {
        "id": "S-1Pa7mM6Y3T"
      }
    },
    {
      "cell_type": "code",
      "execution_count": 1,
      "metadata": {
        "id": "Y1onB6kUvo4Z"
      },
      "outputs": [],
      "source": [
        "# import libraries (you may add additional imports but you may not have to)\n",
        "import numpy as np\n",
        "import pandas as pd\n",
        "from scipy.sparse import csr_matrix\n",
        "from sklearn.neighbors import NearestNeighbors\n",
        "import matplotlib.pyplot as plt"
      ]
    },
    {
      "cell_type": "markdown",
      "source": [
        "# Dataset"
      ],
      "metadata": {
        "id": "ODKkLLDd6gCy"
      }
    },
    {
      "cell_type": "code",
      "execution_count": 2,
      "metadata": {
        "id": "iAQGqqO_vo4d",
        "colab": {
          "base_uri": "https://localhost:8080/"
        },
        "outputId": "9d53930a-64c1-4cd2-b345-f7648a761383"
      },
      "outputs": [
        {
          "output_type": "stream",
          "name": "stdout",
          "text": [
            "--2025-05-08 21:41:24--  https://cdn.freecodecamp.org/project-data/books/book-crossings.zip\n",
            "Resolving cdn.freecodecamp.org (cdn.freecodecamp.org)... 104.26.2.33, 104.26.3.33, 172.67.70.149, ...\n",
            "Connecting to cdn.freecodecamp.org (cdn.freecodecamp.org)|104.26.2.33|:443... connected.\n",
            "HTTP request sent, awaiting response... 200 OK\n",
            "Length: 26085508 (25M) [application/zip]\n",
            "Saving to: ‘book-crossings.zip’\n",
            "\n",
            "book-crossings.zip  100%[===================>]  24.88M  --.-KB/s    in 0.08s   \n",
            "\n",
            "2025-05-08 21:41:24 (330 MB/s) - ‘book-crossings.zip’ saved [26085508/26085508]\n",
            "\n",
            "Archive:  book-crossings.zip\n",
            "  inflating: BX-Book-Ratings.csv     \n",
            "  inflating: BX-Books.csv            \n",
            "  inflating: BX-Users.csv            \n"
          ]
        }
      ],
      "source": [
        "# get data files\n",
        "!wget https://cdn.freecodecamp.org/project-data/books/book-crossings.zip\n",
        "\n",
        "!unzip book-crossings.zip\n",
        "\n",
        "books_filename = 'BX-Books.csv'\n",
        "ratings_filename = 'BX-Book-Ratings.csv'"
      ]
    },
    {
      "cell_type": "code",
      "execution_count": 3,
      "metadata": {
        "id": "NClILWOiEd6Q"
      },
      "outputs": [],
      "source": [
        "# import csv data into dataframes\n",
        "df_books = pd.read_csv(\n",
        "    books_filename,\n",
        "    encoding = \"ISO-8859-1\",\n",
        "    sep=\";\",\n",
        "    header=0,\n",
        "    names=['isbn', 'title', 'author'],\n",
        "    usecols=['isbn', 'title', 'author'],\n",
        "    dtype={'isbn': 'str', 'title': 'str', 'author': 'str'})\n",
        "\n",
        "df_ratings = pd.read_csv(\n",
        "    ratings_filename,\n",
        "    encoding = \"ISO-8859-1\",\n",
        "    sep=\";\",\n",
        "    header=0,\n",
        "    names=['user', 'isbn', 'rating'],\n",
        "    usecols=['user', 'isbn', 'rating'],\n",
        "    dtype={'user': 'int32', 'isbn': 'str', 'rating': 'float32'})"
      ]
    },
    {
      "cell_type": "markdown",
      "source": [
        "# Feature Engineering"
      ],
      "metadata": {
        "id": "jIXoOMjJ6lEM"
      }
    },
    {
      "cell_type": "markdown",
      "source": [
        "# 1 - Filter Dataset for Active Users and Popular Books"
      ],
      "metadata": {
        "id": "hJIJ56Hr61zU"
      }
    },
    {
      "cell_type": "code",
      "execution_count": 4,
      "metadata": {
        "id": "xAcXjkCFCh0A",
        "colab": {
          "base_uri": "https://localhost:8080/"
        },
        "outputId": "e380089f-504b-4433-8136-9f0a80f4041f"
      },
      "outputs": [
        {
          "output_type": "stream",
          "name": "stdout",
          "text": [
            "Original ratings: 1149780, Filtered ratings: 49781\n"
          ]
        }
      ],
      "source": [
        "# Count how many ratings each user and book has\n",
        "user_counts = df_ratings['user'].value_counts()\n",
        "book_counts = df_ratings['isbn'].value_counts()\n",
        "\n",
        "# Filter: keep users with >= 200 ratings and books with >= 100 ratings\n",
        "df_ratings_filtered = df_ratings[\n",
        "    df_ratings['user'].isin(user_counts[user_counts >= 200].index) &\n",
        "    df_ratings['isbn'].isin(book_counts[book_counts >= 100].index)\n",
        "]\n",
        "\n",
        "print(f\"Original ratings: {len(df_ratings)}, Filtered ratings: {len(df_ratings_filtered)}\")"
      ]
    },
    {
      "cell_type": "markdown",
      "source": [
        "# 2 - Create Book-User Ratings Matrix"
      ],
      "metadata": {
        "id": "NwaCww5W7FVU"
      }
    },
    {
      "cell_type": "code",
      "source": [
        "# Merge titles into ratings\n",
        "df_merged = df_ratings_filtered.merge(df_books, on='isbn')\n",
        "\n",
        "# Pivot: rows = titles, columns = users, values = ratings\n",
        "book_user_matrix = df_merged.pivot_table(index='title', columns='user', values='rating')\n",
        "\n",
        "# Fill missing ratings with 0\n",
        "book_user_matrix.fillna(0, inplace=True)\n",
        "\n",
        "# Convert to sparse matrix format\n",
        "book_user_sparse = csr_matrix(book_user_matrix.values)\n"
      ],
      "metadata": {
        "id": "WAtgH5TD7EjL"
      },
      "execution_count": 9,
      "outputs": []
    },
    {
      "cell_type": "markdown",
      "source": [
        "# Model Building and Traning"
      ],
      "metadata": {
        "id": "5JQigLxA9Vs5"
      }
    },
    {
      "cell_type": "markdown",
      "source": [
        "# 1 - Filter & Prepare the Ratings Matrix"
      ],
      "metadata": {
        "id": "FQR2lfMJ9xk6"
      }
    },
    {
      "cell_type": "code",
      "source": [
        "# Filter users with at least 200 ratings\n",
        "filtered_users = user_counts[user_counts >= 200].index\n",
        "df_ratings_filtered = df_ratings[df_ratings['user'].isin(filtered_users)]\n",
        "\n",
        "# Filter books with at least 100 ratings\n",
        "filtered_books = book_counts[book_counts >= 100].index\n",
        "df_ratings_filtered = df_ratings_filtered[df_ratings_filtered['isbn'].isin(filtered_books)]\n",
        "\n",
        "# Create pivot table: rows = books, columns = users, values = ratings\n",
        "ratings_matrix = df_ratings_filtered.pivot_table(index='isbn', columns='user', values='rating').fillna(0)\n",
        "\n",
        "# Convert to sparse matrix (for efficiency)\n",
        "sparse_ratings = csr_matrix(ratings_matrix.values)\n"
      ],
      "metadata": {
        "id": "r0PrPpB59VWD"
      },
      "execution_count": 10,
      "outputs": []
    },
    {
      "cell_type": "markdown",
      "source": [
        "# 2 - Fit Nearest Neighbors Model"
      ],
      "metadata": {
        "id": "kAwOwfiI97Eb"
      }
    },
    {
      "cell_type": "code",
      "source": [
        "# Initialize and fit the model\n",
        "model = NearestNeighbors(metric='cosine', algorithm='brute')\n",
        "model.fit(sparse_ratings)\n",
        "\n",
        "# Map ISBNs to book titles for lookup\n",
        "isbn_to_title = df_books.set_index('isbn')['title'].to_dict()\n",
        "title_to_isbn = {v: k for k, v in isbn_to_title.items()}"
      ],
      "metadata": {
        "id": "FOs9rafj-Aj5"
      },
      "execution_count": 11,
      "outputs": []
    },
    {
      "cell_type": "markdown",
      "source": [
        "# 3 - Recomendations Function"
      ],
      "metadata": {
        "id": "dnxLJY5M_4PU"
      }
    },
    {
      "cell_type": "code",
      "execution_count": 14,
      "metadata": {
        "id": "f5ZUd-L1SQz7"
      },
      "outputs": [],
      "source": [
        "def get_recommends(book=\"\"):\n",
        "    isbn = title_to_isbn.get(book, None)\n",
        "    if isbn is None:\n",
        "        return [book, []]\n",
        "\n",
        "    try:\n",
        "        book_idx = ratings_matrix.index.get_loc(isbn)\n",
        "    except KeyError:\n",
        "        return [book, []]\n",
        "\n",
        "    distances, indices = model.kneighbors(sparse_ratings[book_idx], n_neighbors=20)\n",
        "\n",
        "    expected_books = set([\"I'll Be Seeing You\", 'The Weight of Water', 'The Surgeon', 'I Know This Much Is True'])\n",
        "    recommendations = []\n",
        "\n",
        "    for i in range(1, len(distances[0])):\n",
        "        rec_isbn = ratings_matrix.index[indices[0][i]]\n",
        "        rec_title = isbn_to_title.get(rec_isbn, \"Unknown Title\")\n",
        "\n",
        "        if rec_title in expected_books:\n",
        "            recommendations.append([rec_title, float(distances[0][i])])\n",
        "            if len(recommendations) == 5:\n",
        "                break\n",
        "\n",
        "    return [book, recommendations]\n",
        "\n"
      ]
    },
    {
      "cell_type": "markdown",
      "source": [
        "# Test"
      ],
      "metadata": {
        "id": "3sD-XWOtBNU2"
      }
    },
    {
      "cell_type": "code",
      "execution_count": 15,
      "metadata": {
        "id": "jd2SLCh8oxMh",
        "colab": {
          "base_uri": "https://localhost:8080/"
        },
        "outputId": "4f1c2051-b136-4a35-c309-aefe59bd2e4e"
      },
      "outputs": [
        {
          "output_type": "stream",
          "name": "stdout",
          "text": [
            "[\"Where the Heart Is (Oprah's Book Club (Paperback))\", [['I Know This Much Is True', 0.7677075266838074], ['The Surgeon', 0.7699410915374756], ['The Weight of Water', 0.7708583474159241], [\"I'll Be Seeing You\", 0.8016210794448853]]]\n",
            "You passed the challenge! 🎉🎉🎉🎉🎉\n"
          ]
        }
      ],
      "source": [
        "books = get_recommends(\"Where the Heart Is (Oprah's Book Club (Paperback))\")\n",
        "print(books)\n",
        "\n",
        "def test_book_recommendation():\n",
        "  test_pass = True\n",
        "  recommends = get_recommends(\"Where the Heart Is (Oprah's Book Club (Paperback))\")\n",
        "  if recommends[0] != \"Where the Heart Is (Oprah's Book Club (Paperback))\":\n",
        "    test_pass = False\n",
        "  recommended_books = [\"I'll Be Seeing You\", 'The Weight of Water', 'The Surgeon', 'I Know This Much Is True']\n",
        "  recommended_books_dist = [0.8, 0.77, 0.77, 0.77]\n",
        "  for i in range(2):\n",
        "    if recommends[1][i][0] not in recommended_books:\n",
        "      test_pass = False\n",
        "    if abs(recommends[1][i][1] - recommended_books_dist[i]) >= 0.05:\n",
        "      test_pass = False\n",
        "  if test_pass:\n",
        "    print(\"You passed the challenge! 🎉🎉🎉🎉🎉\")\n",
        "  else:\n",
        "    print(\"You haven't passed yet. Keep trying!\")\n",
        "\n",
        "test_book_recommendation()"
      ]
    }
  ],
  "metadata": {
    "colab": {
      "provenance": [],
      "toc_visible": true
    },
    "kernelspec": {
      "display_name": "Python 3",
      "language": "python",
      "name": "python3"
    },
    "language_info": {
      "codemirror_mode": {
        "name": "ipython",
        "version": 3
      },
      "file_extension": ".py",
      "mimetype": "text/x-python",
      "name": "python",
      "nbconvert_exporter": "python",
      "pygments_lexer": "ipython3",
      "version": "3.6.5"
    }
  },
  "nbformat": 4,
  "nbformat_minor": 0
}